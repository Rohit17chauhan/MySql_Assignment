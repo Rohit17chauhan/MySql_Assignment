{
 "cells": [
  {
   "cell_type": "code",
   "execution_count": 1,
   "id": "abd5a6ba-b08e-4e78-9451-7f274268c92a",
   "metadata": {},
   "outputs": [
    {
     "data": {
      "text/plain": [
       "'Q1. What is a database? Differentiate between SQL and NoSQL databases.'"
      ]
     },
     "execution_count": 1,
     "metadata": {},
     "output_type": "execute_result"
    }
   ],
   "source": [
    "\"\"\"Q1. What is a database? Differentiate between SQL and NoSQL databases.\"\"\""
   ]
  },
  {
   "cell_type": "code",
   "execution_count": 2,
   "id": "c97fc178-ffbe-4436-a9df-d387b7f4df26",
   "metadata": {},
   "outputs": [],
   "source": [
    "Ans1=\" A database is a structured collection of data that is organized and stored in a way that allows for efficient retrieval, management, and manipulation of that data\""
   ]
  },
  {
   "cell_type": "code",
   "execution_count": 3,
   "id": "d37d2c27-cead-4b02-8060-3c35ba8c0f58",
   "metadata": {},
   "outputs": [
    {
     "data": {
      "text/plain": [
       "' A database is a structured collection of data that is organized and stored in a way that allows for efficient retrieval, management, and manipulation of that data'"
      ]
     },
     "execution_count": 3,
     "metadata": {},
     "output_type": "execute_result"
    }
   ],
   "source": [
    "Ans1"
   ]
  },
  {
   "cell_type": "code",
   "execution_count": 6,
   "id": "1ac0eab6-33d2-4f44-ace1-0e960129aea4",
   "metadata": {},
   "outputs": [],
   "source": [
    "Difference=\" SQL databases are based on a relational data model. Data is organized into tables with predefined schemas, and each table contains rows and columns.,NOSQl means not only SQl,NoSQL databases are a diverse category of databases that provide flexible data models and are not limited to the tabular structure of SQL databases. They are designed to handle large volumes of unstructured or semi-structured datNoSQL databases are a diverse category of databases that provide flexible data models and are not limited to the tabular structure of SQL databases.\""
   ]
  },
  {
   "cell_type": "code",
   "execution_count": 7,
   "id": "a6c83448-f6e5-4ecc-a27d-d1d7b5aaac6a",
   "metadata": {},
   "outputs": [
    {
     "data": {
      "text/plain": [
       "' SQL databases are based on a relational data model. Data is organized into tables with predefined schemas, and each table contains rows and columns.,NOSQl means not only SQl,NoSQL databases are a diverse category of databases that provide flexible data models and are not limited to the tabular structure of SQL databases. They are designed to handle large volumes of unstructured or semi-structured datNoSQL databases are a diverse category of databases that provide flexible data models and are not limited to the tabular structure of SQL databases.'"
      ]
     },
     "execution_count": 7,
     "metadata": {},
     "output_type": "execute_result"
    }
   ],
   "source": [
    "Difference"
   ]
  },
  {
   "cell_type": "code",
   "execution_count": 4,
   "id": "32948b29-6508-4db9-81c8-a707ccf724b5",
   "metadata": {},
   "outputs": [
    {
     "data": {
      "text/plain": [
       "'Q2. What is DDL? Explain why CREATE, DROP, ALTER, and TRUNCATE are used with an example.'"
      ]
     },
     "execution_count": 4,
     "metadata": {},
     "output_type": "execute_result"
    }
   ],
   "source": [
    "\"\"\"Q2. What is DDL? Explain why CREATE, DROP, ALTER, and TRUNCATE are used with an example.\"\"\""
   ]
  },
  {
   "cell_type": "code",
   "execution_count": 8,
   "id": "d85bd23a-dc93-43ea-a972-7e5cfff124ec",
   "metadata": {},
   "outputs": [],
   "source": [
    "Ans2=\" DDl stand for data definition language, which is a subset of SQL (Structured Query Language) used for defining, managing, and modifying the structure of a database and its objects. DDL statements are responsible for creating, altering, and deleting database objects like tables, indexes, and schemas.\""
   ]
  },
  {
   "cell_type": "code",
   "execution_count": 9,
   "id": "cb65a647-3f7c-4667-bbac-378564aabcc0",
   "metadata": {},
   "outputs": [
    {
     "data": {
      "text/plain": [
       "' DDl stand for data definition language, which is a subset of SQL (Structured Query Language) used for defining, managing, and modifying the structure of a database and its objects. DDL statements are responsible for creating, altering, and deleting database objects like tables, indexes, and schemas.'"
      ]
     },
     "execution_count": 9,
     "metadata": {},
     "output_type": "execute_result"
    }
   ],
   "source": [
    "Ans2"
   ]
  },
  {
   "cell_type": "code",
   "execution_count": 18,
   "id": "1f33fcc5-e99e-4c72-9908-6ff2e59d485e",
   "metadata": {},
   "outputs": [],
   "source": [
    "Create=\"The CREATE statement is used to create new database objects, such as tables, indexes, views, or schemas., Example: Creating a new table named ,Employees with columns for employee information\""
   ]
  },
  {
   "cell_type": "code",
   "execution_count": 19,
   "id": "8452b043-4b4c-4b90-9b32-a0c925a08ebf",
   "metadata": {},
   "outputs": [
    {
     "data": {
      "text/plain": [
       "'The CREATE statement is used to create new database objects, such as tables, indexes, views, or schemas., Example: Creating a new table named ,Employees with columns for employee information'"
      ]
     },
     "execution_count": 19,
     "metadata": {},
     "output_type": "execute_result"
    }
   ],
   "source": [
    "Create"
   ]
  },
  {
   "cell_type": "code",
   "execution_count": 20,
   "id": "27727629-5457-40a2-ad86-8a92139b58f3",
   "metadata": {},
   "outputs": [],
   "source": [
    "Drop=\"The DROP statement is used to delete existing database objects, such as tables, indexes, or views, along with all their data and associated objects.,Example: Deleting the Employees table\""
   ]
  },
  {
   "cell_type": "code",
   "execution_count": 21,
   "id": "5b1fe166-15a0-49b9-acd3-d9dd576d90fe",
   "metadata": {},
   "outputs": [
    {
     "data": {
      "text/plain": [
       "'The DROP statement is used to delete existing database objects, such as tables, indexes, or views, along with all their data and associated objects.,Example: Deleting the Employees table'"
      ]
     },
     "execution_count": 21,
     "metadata": {},
     "output_type": "execute_result"
    }
   ],
   "source": [
    "Drop"
   ]
  },
  {
   "cell_type": "code",
   "execution_count": 24,
   "id": "e703ec8e-2316-4cc9-be57-fa395b3ec1ba",
   "metadata": {},
   "outputs": [],
   "source": [
    "Alter=\"The ALTER statement is used to modify the structure of an existing database object, such as adding, modifying, or deleting columns from a table.Example: Adding a new Email column to the Employees  table\""
   ]
  },
  {
   "cell_type": "code",
   "execution_count": 25,
   "id": "92912354-52ea-4c4f-abed-c1032e58faf9",
   "metadata": {},
   "outputs": [
    {
     "data": {
      "text/plain": [
       "'The ALTER statement is used to modify the structure of an existing database object, such as adding, modifying, or deleting columns from a table.Example: Adding a new Email column to the Employees  table'"
      ]
     },
     "execution_count": 25,
     "metadata": {},
     "output_type": "execute_result"
    }
   ],
   "source": [
    "Alter"
   ]
  },
  {
   "cell_type": "code",
   "execution_count": 26,
   "id": "e6bc1f0e-3385-4763-8dfe-1f2b3f4bf2c6",
   "metadata": {},
   "outputs": [],
   "source": [
    "Turncate=\"The TRUNCATE statement is used to remove all the rows from a table while retaining the table structure. Example: Removing all data from the Employees table\""
   ]
  },
  {
   "cell_type": "code",
   "execution_count": 28,
   "id": "af638b3a-3580-43f4-a60e-6be9bb6f2b09",
   "metadata": {},
   "outputs": [
    {
     "data": {
      "text/plain": [
       "'The TRUNCATE statement is used to remove all the rows from a table while retaining the table structure. Example: Removing all data from the Employees table'"
      ]
     },
     "execution_count": 28,
     "metadata": {},
     "output_type": "execute_result"
    }
   ],
   "source": [
    "Turncate"
   ]
  },
  {
   "cell_type": "code",
   "execution_count": 29,
   "id": "6b283dc1-0f24-4db2-a72f-b998a1046c17",
   "metadata": {},
   "outputs": [
    {
     "data": {
      "text/plain": [
       "'Q3. What is DML? Explain INSERT, UPDATE, and DELETE with an example.'"
      ]
     },
     "execution_count": 29,
     "metadata": {},
     "output_type": "execute_result"
    }
   ],
   "source": [
    "\"\"\"Q3. What is DML? Explain INSERT, UPDATE, and DELETE with an example.\"\"\""
   ]
  },
  {
   "cell_type": "code",
   "execution_count": 30,
   "id": "9ad8c794-65d0-46bf-8012-c28b9fd2e6b2",
   "metadata": {},
   "outputs": [],
   "source": [
    "Ans3=\"DML stands for Data Manipulation Language, which is a subset of SQL (Structured Query Language) used for manipulating data stored in a database. DML statements are responsible for performing operations like inserting, updating, and deleting records in database tables.\""
   ]
  },
  {
   "cell_type": "code",
   "execution_count": 31,
   "id": "b7913e01-530b-4b86-9dae-d5004773fa68",
   "metadata": {},
   "outputs": [
    {
     "data": {
      "text/plain": [
       "'DML stands for Data Manipulation Language, which is a subset of SQL (Structured Query Language) used for manipulating data stored in a database. DML statements are responsible for performing operations like inserting, updating, and deleting records in database tables.'"
      ]
     },
     "execution_count": 31,
     "metadata": {},
     "output_type": "execute_result"
    }
   ],
   "source": [
    "Ans3"
   ]
  },
  {
   "cell_type": "code",
   "execution_count": 32,
   "id": "62d3920a-a214-4f72-b8a1-a562f5bf59cd",
   "metadata": {},
   "outputs": [],
   "source": [
    "INSERT=\"The INSERT statement is used to add new records (rows) to a database table.Example: Inserting a new employee record into the Employees table.\""
   ]
  },
  {
   "cell_type": "code",
   "execution_count": 33,
   "id": "31023ef8-04a8-4f08-9cd2-ef79f3b59a19",
   "metadata": {},
   "outputs": [
    {
     "data": {
      "text/plain": [
       "'The INSERT statement is used to add new records (rows) to a database table.Example: Inserting a new employee record into the Employees table.'"
      ]
     },
     "execution_count": 33,
     "metadata": {},
     "output_type": "execute_result"
    }
   ],
   "source": [
    "INSERT"
   ]
  },
  {
   "cell_type": "code",
   "execution_count": 35,
   "id": "8220a2ce-6c22-4af5-8202-36ad51b982e6",
   "metadata": {},
   "outputs": [],
   "source": [
    "UPDATE=\"The UPDATE statement is used to modify existing records in a database table.  Example: Updating the department for an employee with the EmployeeID of 1\"\n"
   ]
  },
  {
   "cell_type": "code",
   "execution_count": 36,
   "id": "8979bd57-174e-4af8-abba-0357d5b2c1c5",
   "metadata": {},
   "outputs": [
    {
     "data": {
      "text/plain": [
       "'The UPDATE statement is used to modify existing records in a database table.  Example: Updating the department for an employee with the EmployeeID of 1'"
      ]
     },
     "execution_count": 36,
     "metadata": {},
     "output_type": "execute_result"
    }
   ],
   "source": [
    "UPDATE"
   ]
  },
  {
   "cell_type": "code",
   "execution_count": 37,
   "id": "a853e3c3-416b-46fd-bec5-2833aaa3a9be",
   "metadata": {},
   "outputs": [],
   "source": [
    "DELETE=\"The DELETE statement is used to remove records from a database table.   Deleting an employee record with the EmployeeID of 2\""
   ]
  },
  {
   "cell_type": "code",
   "execution_count": 38,
   "id": "df066528-a883-4549-9955-1c0022bea6a8",
   "metadata": {},
   "outputs": [
    {
     "data": {
      "text/plain": [
       "'The DELETE statement is used to remove records from a database table.   Deleting an employee record with the EmployeeID of 2'"
      ]
     },
     "execution_count": 38,
     "metadata": {},
     "output_type": "execute_result"
    }
   ],
   "source": [
    "DELETE"
   ]
  },
  {
   "cell_type": "code",
   "execution_count": 39,
   "id": "553f1e41-d603-4580-90b9-b0cf06ac11f6",
   "metadata": {},
   "outputs": [
    {
     "data": {
      "text/plain": [
       "'Q4. What is DQL? Explain SELECT with an example.'"
      ]
     },
     "execution_count": 39,
     "metadata": {},
     "output_type": "execute_result"
    }
   ],
   "source": [
    "\"\"\"Q4. What is DQL? Explain SELECT with an example.\"\"\""
   ]
  },
  {
   "cell_type": "code",
   "execution_count": 40,
   "id": "c8b45bf3-b91e-45d6-a456-db55250653d6",
   "metadata": {},
   "outputs": [],
   "source": [
    "Ans4=\"DQL stands for Data Query Language, which is a subset of SQL (Structured Query Language) used for querying and retrieving data from a database. DQL statements are primarily used for selecting and filtering data from database tables. The most commonly used DQL statement is SELECT.Purpose: The SELECT statement is used to retrieve data from one or more database tables. It allows you to specify which columns to retrieve and apply filtering conditions to limit the result set.Example: Retrieving all employee records from the Employees table:\"\n"
   ]
  },
  {
   "cell_type": "code",
   "execution_count": 41,
   "id": "3b5f488f-d36b-4820-a32b-0be767aee5c8",
   "metadata": {},
   "outputs": [
    {
     "data": {
      "text/plain": [
       "'DQL stands for Data Query Language, which is a subset of SQL (Structured Query Language) used for querying and retrieving data from a database. DQL statements are primarily used for selecting and filtering data from database tables. The most commonly used DQL statement is SELECT.Purpose: The SELECT statement is used to retrieve data from one or more database tables. It allows you to specify which columns to retrieve and apply filtering conditions to limit the result set.Example: Retrieving all employee records from the Employees table:'"
      ]
     },
     "execution_count": 41,
     "metadata": {},
     "output_type": "execute_result"
    }
   ],
   "source": [
    "Ans4"
   ]
  },
  {
   "cell_type": "code",
   "execution_count": 42,
   "id": "75b7fa25-e81e-48b5-9146-0e9fff638755",
   "metadata": {},
   "outputs": [
    {
     "data": {
      "text/plain": [
       "'Q5. Explain Primary Key and Foreign Key.'"
      ]
     },
     "execution_count": 42,
     "metadata": {},
     "output_type": "execute_result"
    }
   ],
   "source": [
    "\"\"\"Q5. Explain Primary Key and Foreign Key.\"\"\""
   ]
  },
  {
   "cell_type": "code",
   "execution_count": 43,
   "id": "b9f49860-74cc-4799-8f04-82ebf006a705",
   "metadata": {},
   "outputs": [],
   "source": [
    "Ans5=\"A primary key is a special column or set of columns in a relational database table that uniquely identifies each row (record) in that table. The primary key serves as a means to enforce data integrity and ensure that there are no duplicate rows in the table.A foreign key is a column or set of columns in one table that establishes a link between data in two tables. It creates a relationship between the tables by referencing the primary key in another table. Foreign keys are used to enforce referential integrity, ensuring that data in related tables remains consistent. \""
   ]
  },
  {
   "cell_type": "code",
   "execution_count": 44,
   "id": "2a3f710c-8092-42a5-afb6-7180bb1a9bed",
   "metadata": {},
   "outputs": [
    {
     "data": {
      "text/plain": [
       "'A primary key is a special column or set of columns in a relational database table that uniquely identifies each row (record) in that table. The primary key serves as a means to enforce data integrity and ensure that there are no duplicate rows in the table.A foreign key is a column or set of columns in one table that establishes a link between data in two tables. It creates a relationship between the tables by referencing the primary key in another table. Foreign keys are used to enforce referential integrity, ensuring that data in related tables remains consistent. '"
      ]
     },
     "execution_count": 44,
     "metadata": {},
     "output_type": "execute_result"
    }
   ],
   "source": [
    "Ans5"
   ]
  },
  {
   "cell_type": "code",
   "execution_count": 45,
   "id": "200498df-9481-4a4e-bd23-ee1d58678891",
   "metadata": {},
   "outputs": [
    {
     "data": {
      "text/plain": [
       "'Q6. Write a python code to connect MySQL to python. Explain the cursor() and execute() method.'"
      ]
     },
     "execution_count": 45,
     "metadata": {},
     "output_type": "execute_result"
    }
   ],
   "source": [
    "\"\"\"Q6. Write a python code to connect MySQL to python. Explain the cursor() and execute() method.\"\"\""
   ]
  },
  {
   "cell_type": "code",
   "execution_count": null,
   "id": "fd580d86-11cc-4dc6-a14b-75ca7dc6fa16",
   "metadata": {},
   "outputs": [],
   "source": [
    "import mysql.connector\n",
    "\n",
    "mydb = mysql.connector.connect(\n",
    "  host=\"localhost\",\n",
    "  user=\"user_name\",\n",
    "  password=\"login_password\"\n",
    ")\n",
    "print(mydb)\n",
    "mycursor = mydb.cursor()\n",
    "mycursor.execute(\"SHOW DATABASES\")\n",
    "for x in mycursor:\n",
    "  print(x)"
   ]
  },
  {
   "cell_type": "code",
   "execution_count": 48,
   "id": "45c0172e-a85c-48ef-b203-0104d7b71ecd",
   "metadata": {},
   "outputs": [],
   "source": [
    "cursor=\"curser is nothing just a pointer which read the database or table one by one thats why we create a cursor\""
   ]
  },
  {
   "cell_type": "code",
   "execution_count": 49,
   "id": "34d3f3ce-d809-4497-b0fc-e1ddaebec182",
   "metadata": {},
   "outputs": [
    {
     "data": {
      "text/plain": [
       "'curser is nothing just a pointer which read the database or table one by one thats why we create a curser'"
      ]
     },
     "execution_count": 49,
     "metadata": {},
     "output_type": "execute_result"
    }
   ],
   "source": [
    "cursor"
   ]
  },
  {
   "cell_type": "code",
   "execution_count": 50,
   "id": "d752decb-1a38-4919-8c7b-76363c106924",
   "metadata": {},
   "outputs": [],
   "source": [
    "execute=\"execute means just give an output \""
   ]
  },
  {
   "cell_type": "code",
   "execution_count": 51,
   "id": "843f2e8f-bd83-45ea-acd7-e554dae024c3",
   "metadata": {},
   "outputs": [
    {
     "data": {
      "text/plain": [
       "'execute means just give an output '"
      ]
     },
     "execution_count": 51,
     "metadata": {},
     "output_type": "execute_result"
    }
   ],
   "source": [
    "execute"
   ]
  },
  {
   "cell_type": "code",
   "execution_count": 52,
   "id": "95595f01-2fea-4880-9457-f37da4849c19",
   "metadata": {},
   "outputs": [
    {
     "data": {
      "text/plain": [
       "' Q7. Give the order of execution of SQL clauses in an SQL query. '"
      ]
     },
     "execution_count": 52,
     "metadata": {},
     "output_type": "execute_result"
    }
   ],
   "source": [
    "\"\"\" Q7. Give the order of execution of SQL clauses in an SQL query. \"\"\""
   ]
  },
  {
   "cell_type": "code",
   "execution_count": null,
   "id": "2605fd7d-8529-4993-a716-8f1b83a7b197",
   "metadata": {},
   "outputs": [],
   "source": [
    "Ans7=\"FROM Clause: The first step is to identify the tables from which you will retrieve data,JOIN Clause: If your query involves multiple tables and requires joining them,the JOIN clauses are used to specify how the tables are related and joined together,GROUP BY Clause: If you need to group rows based on certain columns and perform aggregate functions like SUM, COUNT, AVG, etc., the GROUP BY clause is used. This clause groups rows with the same values in specified columns into summary rows,"
   ]
  }
 ],
 "metadata": {
  "kernelspec": {
   "display_name": "Python 3 (ipykernel)",
   "language": "python",
   "name": "python3"
  },
  "language_info": {
   "codemirror_mode": {
    "name": "ipython",
    "version": 3
   },
   "file_extension": ".py",
   "mimetype": "text/x-python",
   "name": "python",
   "nbconvert_exporter": "python",
   "pygments_lexer": "ipython3",
   "version": "3.10.8"
  }
 },
 "nbformat": 4,
 "nbformat_minor": 5
}
